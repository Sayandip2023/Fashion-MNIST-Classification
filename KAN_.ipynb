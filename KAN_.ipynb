{
  "nbformat": 4,
  "nbformat_minor": 0,
  "metadata": {
    "colab": {
      "provenance": [],
      "gpuType": "T4",
      "authorship_tag": "ABX9TyNCbgdp3UaSaK4Vm+G+UcE9",
      "include_colab_link": true
    },
    "kernelspec": {
      "name": "python3",
      "display_name": "Python 3"
    },
    "language_info": {
      "name": "python"
    },
    "accelerator": "GPU"
  },
  "cells": [
    {
      "cell_type": "markdown",
      "metadata": {
        "id": "view-in-github",
        "colab_type": "text"
      },
      "source": [
        "<a href=\"https://colab.research.google.com/github/Sayandip2023/Fashion-MNIST-Classification/blob/main/KAN_.ipynb\" target=\"_parent\"><img src=\"https://colab.research.google.com/assets/colab-badge.svg\" alt=\"Open In Colab\"/></a>"
      ]
    },
    {
      "cell_type": "code",
      "source": [
        "import tensorflow as tf\n",
        "from tensorflow.keras import layers, models\n",
        "from tensorflow.keras.datasets import cifar10\n",
        "import numpy as np\n",
        "\n"
      ],
      "metadata": {
        "id": "Zhsiw2UuH_iz"
      },
      "execution_count": null,
      "outputs": []
    },
    {
      "cell_type": "code",
      "source": [
        "# Load CIFAR-10 dataset\n",
        "(x_train, y_train), (x_test, y_test) = cifar10.load_data()\n",
        "\n",
        "# Normalize the images to the range [0, 1]\n",
        "x_train, x_test = x_train / 255.0, x_test / 255.0\n",
        "\n",
        "# Split the training data into training and validation sets\n",
        "x_train, x_val = x_train[:40000], x_train[40000:]\n",
        "y_train, y_val = y_train[:40000], y_train[40000:]\n"
      ],
      "metadata": {
        "id": "_tmcxm9cJWJw"
      },
      "execution_count": null,
      "outputs": []
    },
    {
      "cell_type": "code",
      "source": [
        "def create_hybrid_kan_cnn(input_shape):\n",
        "    # Define the CNN for feature extraction\n",
        "    cnn_input = layers.Input(shape=input_shape)\n",
        "    x = layers.Conv2D(32, (3, 3), activation='relu')(cnn_input)\n",
        "    x = layers.MaxPooling2D((2, 2))(x)\n",
        "    x = layers.Conv2D(64, (3, 3), activation='relu')(x)\n",
        "    x = layers.MaxPooling2D((2, 2))(x)\n",
        "    x = layers.Conv2D(64, (3, 3), activation='relu')(x)\n",
        "    x = layers.Flatten()(x)\n",
        "    cnn_output = layers.Dense(128, activation='relu')(x)\n",
        "\n",
        "    # Define the KAN for function approximation\n",
        "    kan_input = layers.Input(shape=(128,))\n",
        "    y = layers.Dense(256, activation='relu')(kan_input)\n",
        "    y = layers.Dense(128, activation='relu')(y)\n",
        "    y = layers.Dense(64, activation='relu')(y)\n",
        "    kan_output = layers.Dense(10, activation='softmax')(y)  # Assuming 10 classes for classification\n",
        "\n",
        "    # Combine CNN and KAN\n",
        "    combined_input = cnn_output\n",
        "    kan = models.Model(inputs=kan_input, outputs=kan_output)\n",
        "    combined_output = kan(combined_input)\n",
        "\n",
        "    # Full model\n",
        "    model = models.Model(inputs=cnn_input, outputs=combined_output)\n",
        "\n",
        "    return model"
      ],
      "metadata": {
        "id": "Rwul1TPqJYIw"
      },
      "execution_count": null,
      "outputs": []
    },
    {
      "cell_type": "code",
      "source": [
        "# Define input shape based on your image data\n",
        "input_shape = (32, 32, 3)  # CIFAR-10 images are 32x32 RGB images\n",
        "\n",
        "# Create the hybrid model\n",
        "model = create_hybrid_kan_cnn(input_shape)\n",
        "\n",
        "# Compile the model\n",
        "model.compile(optimizer='adam', loss='sparse_categorical_crossentropy', metrics=['accuracy'])\n",
        "\n",
        "# Summary of the model\n",
        "model.summary()"
      ],
      "metadata": {
        "id": "kTX7JO4DJaQA"
      },
      "execution_count": null,
      "outputs": []
    },
    {
      "cell_type": "code",
      "source": [
        "# Train the model\n",
        "history = model.fit(x_train, y_train, epochs=10, batch_size=64, validation_data=(x_val, y_val))\n",
        "\n",
        "# Evaluate the model on the test set\n",
        "test_loss, test_acc = model.evaluate(x_test, y_test, verbose=2)\n",
        "print(f\"Test accuracy: {test_acc}\")"
      ],
      "metadata": {
        "id": "Xi3Y8D3BJb8z"
      },
      "execution_count": null,
      "outputs": []
    }
  ]
}